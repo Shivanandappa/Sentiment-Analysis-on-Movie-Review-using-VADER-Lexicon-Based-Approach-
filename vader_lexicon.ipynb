{
  "cells": [
    {
      "cell_type": "code",
      "execution_count": null,
      "id": "3c1242df",
      "metadata": {
        "id": "3c1242df"
      },
      "outputs": [],
      "source": [
        "import pandas as pd\n",
        "from vaderSentiment.vaderSentiment import SentimentIntensityAnalyzer\n",
        "\n",
        "\n"
      ]
    },
    {
      "cell_type": "code",
      "execution_count": null,
      "id": "15dac253",
      "metadata": {
        "id": "15dac253"
      },
      "outputs": [],
      "source": [
        "def sentiment_Vader(text):\n",
        "    over_all_polarity = sid.polarity_scores(text)\n",
        "    if over_all_polarity['compound'] >= 0.05:\n",
        "        return \"positive\"\n",
        "    elif over_all_polarity['compound'] <= -0.05:\n",
        "        return \"negative\"\n",
        "    else:\n",
        "        return \"neutral\"\n",
        "\n",
        "\n"
      ]
    },
    {
      "cell_type": "code",
      "execution_count": null,
      "id": "0c9f415c",
      "metadata": {
        "id": "0c9f415c"
      },
      "outputs": [],
      "source": [
        "sid = SentimentIntensityAnalyzer()\n",
        "\n"
      ]
    },
    {
      "cell_type": "code",
      "execution_count": null,
      "id": "5f82d66a",
      "metadata": {
        "id": "5f82d66a"
      },
      "outputs": [],
      "source": [
        "data_file = pd.read_excel(r'movie_review.xlsx')\n",
        "\n",
        "data_file['sentiment_vader'] = data_file['review'].apply(lambda x: sentiment_Vader(x))\n"
      ]
    },
    {
      "cell_type": "code",
      "execution_count": null,
      "id": "9a5f4144",
      "metadata": {
        "id": "9a5f4144"
      },
      "outputs": [],
      "source": [
        "# write file\n",
        "csv_data = data_file.to_csv('vader_sentiment.csv')"
      ]
    },
    {
      "cell_type": "code",
      "execution_count": null,
      "id": "57e0ba61",
      "metadata": {
        "id": "57e0ba61"
      },
      "outputs": [],
      "source": []
    }
  ],
  "metadata": {
    "kernelspec": {
      "display_name": "Python 3 (ipykernel)",
      "language": "python",
      "name": "python3"
    },
    "language_info": {
      "codemirror_mode": {
        "name": "ipython",
        "version": 3
      },
      "file_extension": ".py",
      "mimetype": "text/x-python",
      "name": "python",
      "nbconvert_exporter": "python",
      "pygments_lexer": "ipython3",
      "version": "3.9.11"
    },
    "colab": {
      "provenance": []
    }
  },
  "nbformat": 4,
  "nbformat_minor": 5
}